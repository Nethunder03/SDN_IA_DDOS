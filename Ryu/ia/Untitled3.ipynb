{
 "cells": [
  {
   "cell_type": "code",
   "execution_count": 1,
   "id": "3508b143",
   "metadata": {},
   "outputs": [
    {
     "name": "stderr",
     "output_type": "stream",
     "text": [
      "2023-12-16 00:49:31.540750: I tensorflow/core/platform/cpu_feature_guard.cc:193] This TensorFlow binary is optimized with oneAPI Deep Neural Network Library (oneDNN) to use the following CPU instructions in performance-critical operations:  SSE4.1 SSE4.2 AVX AVX2 FMA\n",
      "To enable them in other operations, rebuild TensorFlow with the appropriate compiler flags.\n"
     ]
    }
   ],
   "source": [
    "import time\n",
    "from sklearn.model_selection import train_test_split, GridSearchCV\n",
    "from sklearn.neighbors import KNeighborsClassifier\n",
    "from sklearn.ensemble import RandomForestClassifier\n",
    "from sklearn.linear_model import LogisticRegression\n",
    "from sklearn.tree import DecisionTreeClassifier\n",
    "from sklearn.metrics import accuracy_score, classification_report\n",
    "import matplotlib.pyplot as plt\n",
    "import pandas as pd\n",
    "import numpy as np\n",
    "from sklearn import svm\n",
    "from sklearn import metrics, preprocessing\n",
    "\n",
    "import tensorflow as tf\n",
    "from tensorflow.keras import layers, models\n",
    "from keras.models import Sequential\n",
    "from keras.layers import LSTM, Dense, BatchNormalization, Dropout\n",
    "from keras.wrappers.scikit_learn import KerasClassifier\n",
    "from pyDeepInsight import ImageTransformer, LogScaler\n",
    "from keras.callbacks import EarlyStopping\n",
    "\n",
    "import pickle, joblib"
   ]
  },
  {
   "cell_type": "code",
   "execution_count": 2,
   "id": "67b8040a",
   "metadata": {},
   "outputs": [],
   "source": [
    "df = pd.read_csv('PortStatsfile.csv')"
   ]
  },
  {
   "cell_type": "code",
   "execution_count": 3,
   "id": "4e37b216",
   "metadata": {},
   "outputs": [
    {
     "data": {
      "text/html": [
       "<div>\n",
       "<style scoped>\n",
       "    .dataframe tbody tr th:only-of-type {\n",
       "        vertical-align: middle;\n",
       "    }\n",
       "\n",
       "    .dataframe tbody tr th {\n",
       "        vertical-align: top;\n",
       "    }\n",
       "\n",
       "    .dataframe thead th {\n",
       "        text-align: right;\n",
       "    }\n",
       "</style>\n",
       "<table border=\"1\" class=\"dataframe\">\n",
       "  <thead>\n",
       "    <tr style=\"text-align: right;\">\n",
       "      <th></th>\n",
       "      <th>timestamp</th>\n",
       "      <th>datapath</th>\n",
       "      <th>rx-pkts</th>\n",
       "      <th>rx-bytes</th>\n",
       "      <th>rx-error</th>\n",
       "      <th>rx_dropped</th>\n",
       "      <th>tx-pkts</th>\n",
       "      <th>tx-bytes</th>\n",
       "      <th>tx-error</th>\n",
       "      <th>tx_dropped</th>\n",
       "      <th>duration_nsec</th>\n",
       "      <th>label</th>\n",
       "    </tr>\n",
       "  </thead>\n",
       "  <tbody>\n",
       "    <tr>\n",
       "      <th>0</th>\n",
       "      <td>1.702158e+09</td>\n",
       "      <td>10</td>\n",
       "      <td>9</td>\n",
       "      <td>822</td>\n",
       "      <td>0</td>\n",
       "      <td>0</td>\n",
       "      <td>131</td>\n",
       "      <td>16582</td>\n",
       "      <td>0</td>\n",
       "      <td>0</td>\n",
       "      <td>4</td>\n",
       "      <td>0</td>\n",
       "    </tr>\n",
       "    <tr>\n",
       "      <th>1</th>\n",
       "      <td>1.702158e+09</td>\n",
       "      <td>10</td>\n",
       "      <td>11</td>\n",
       "      <td>942</td>\n",
       "      <td>0</td>\n",
       "      <td>0</td>\n",
       "      <td>128</td>\n",
       "      <td>16352</td>\n",
       "      <td>0</td>\n",
       "      <td>0</td>\n",
       "      <td>4</td>\n",
       "      <td>0</td>\n",
       "    </tr>\n",
       "    <tr>\n",
       "      <th>2</th>\n",
       "      <td>1.702158e+09</td>\n",
       "      <td>10</td>\n",
       "      <td>120</td>\n",
       "      <td>15122</td>\n",
       "      <td>0</td>\n",
       "      <td>0</td>\n",
       "      <td>19</td>\n",
       "      <td>2328</td>\n",
       "      <td>0</td>\n",
       "      <td>0</td>\n",
       "      <td>4</td>\n",
       "      <td>0</td>\n",
       "    </tr>\n",
       "    <tr>\n",
       "      <th>3</th>\n",
       "      <td>1.702158e+09</td>\n",
       "      <td>10</td>\n",
       "      <td>0</td>\n",
       "      <td>0</td>\n",
       "      <td>0</td>\n",
       "      <td>112</td>\n",
       "      <td>0</td>\n",
       "      <td>0</td>\n",
       "      <td>0</td>\n",
       "      <td>0</td>\n",
       "      <td>4</td>\n",
       "      <td>0</td>\n",
       "    </tr>\n",
       "    <tr>\n",
       "      <th>4</th>\n",
       "      <td>1.702158e+09</td>\n",
       "      <td>2</td>\n",
       "      <td>109</td>\n",
       "      <td>13786</td>\n",
       "      <td>0</td>\n",
       "      <td>0</td>\n",
       "      <td>36</td>\n",
       "      <td>4566</td>\n",
       "      <td>0</td>\n",
       "      <td>0</td>\n",
       "      <td>3</td>\n",
       "      <td>0</td>\n",
       "    </tr>\n",
       "  </tbody>\n",
       "</table>\n",
       "</div>"
      ],
      "text/plain": [
       "      timestamp  datapath  rx-pkts  rx-bytes  rx-error  rx_dropped  tx-pkts  \\\n",
       "0  1.702158e+09        10        9       822         0           0      131   \n",
       "1  1.702158e+09        10       11       942         0           0      128   \n",
       "2  1.702158e+09        10      120     15122         0           0       19   \n",
       "3  1.702158e+09        10        0         0         0         112        0   \n",
       "4  1.702158e+09         2      109     13786         0           0       36   \n",
       "\n",
       "   tx-bytes  tx-error  tx_dropped  duration_nsec  label  \n",
       "0     16582         0           0              4      0  \n",
       "1     16352         0           0              4      0  \n",
       "2      2328         0           0              4      0  \n",
       "3         0         0           0              4      0  \n",
       "4      4566         0           0              3      0  "
      ]
     },
     "execution_count": 3,
     "metadata": {},
     "output_type": "execute_result"
    }
   ],
   "source": [
    "df.head()"
   ]
  },
  {
   "cell_type": "code",
   "execution_count": 5,
   "id": "9a370840",
   "metadata": {},
   "outputs": [
    {
     "data": {
      "image/png": "[encoded data removed]",
      "text/plain": [
       "<Figure size 800x400 with 1 Axes>"
      ]
     },
     "metadata": {},
     "output_type": "display_data"
    }
   ],
   "source": [
    "labels = (\"Trafic Malveillant\", \"Trafic normal\")\n",
    "sizes = [len(df[df[\"label\"]== 1]), len(df[df[\"label\"]== 0])]\n",
    "\n",
    "colors = ['gold', 'lightcoral']\n",
    "\n",
    "plt.figure(figsize=(8, 4))\n",
    "plt.title(\"Le pourcentage de demandes bénignes et malveillantes dans l'ensemble de données\")\n",
    "plt.pie(sizes, labels=labels, colors=colors, autopct='%1.1f%%', shadow=True, startangle=140)\n",
    "plt.axis('equal')\n",
    "plt.savefig(\"Pourcentage_bénignes_&_malveillantes\")"
   ]
  },
  {
   "cell_type": "code",
   "execution_count": 6,
   "id": "8ee05a49",
   "metadata": {},
   "outputs": [
    {
     "data": {
      "text/plain": [
       "0    28885\n",
       "1     3932\n",
       "Name: label, dtype: int64"
      ]
     },
     "execution_count": 6,
     "metadata": {},
     "output_type": "execute_result"
    }
   ],
   "source": [
    "df.label.value_counts()"
   ]
  },
  {
   "cell_type": "code",
   "execution_count": 4,
   "id": "4c9eccb1",
   "metadata": {},
   "outputs": [],
   "source": [
    "df.dropna(inplace=True)\n",
    "df.drop(['timestamp','datapath'], axis=1, inplace=True)"
   ]
  },
  {
   "cell_type": "code",
   "execution_count": 6,
   "id": "c9eed7db",
   "metadata": {},
   "outputs": [
    {
     "data": {
      "text/html": [
       "<div>\n",
       "<style scoped>\n",
       "    .dataframe tbody tr th:only-of-type {\n",
       "        vertical-align: middle;\n",
       "    }\n",
       "\n",
       "    .dataframe tbody tr th {\n",
       "        vertical-align: top;\n",
       "    }\n",
       "\n",
       "    .dataframe thead th {\n",
       "        text-align: right;\n",
       "    }\n",
       "</style>\n",
       "<table border=\"1\" class=\"dataframe\">\n",
       "  <thead>\n",
       "    <tr style=\"text-align: right;\">\n",
       "      <th></th>\n",
       "      <th>rx-pkts</th>\n",
       "      <th>rx-bytes</th>\n",
       "      <th>rx-error</th>\n",
       "      <th>rx_dropped</th>\n",
       "      <th>tx-pkts</th>\n",
       "      <th>tx-bytes</th>\n",
       "      <th>tx-error</th>\n",
       "      <th>tx_dropped</th>\n",
       "      <th>duration_nsec</th>\n",
       "      <th>label</th>\n",
       "    </tr>\n",
       "  </thead>\n",
       "  <tbody>\n",
       "    <tr>\n",
       "      <th>0</th>\n",
       "      <td>3.174885e-07</td>\n",
       "      <td>8.480693e-10</td>\n",
       "      <td>0.0</td>\n",
       "      <td>0.000000</td>\n",
       "      <td>4.621222e-06</td>\n",
       "      <td>1.710789e-08</td>\n",
       "      <td>0.0</td>\n",
       "      <td>0.0</td>\n",
       "      <td>0.001521</td>\n",
       "      <td>0.0</td>\n",
       "    </tr>\n",
       "    <tr>\n",
       "      <th>1</th>\n",
       "      <td>3.880415e-07</td>\n",
       "      <td>9.718750e-10</td>\n",
       "      <td>0.0</td>\n",
       "      <td>0.000000</td>\n",
       "      <td>4.515392e-06</td>\n",
       "      <td>1.687059e-08</td>\n",
       "      <td>0.0</td>\n",
       "      <td>0.0</td>\n",
       "      <td>0.001521</td>\n",
       "      <td>0.0</td>\n",
       "    </tr>\n",
       "    <tr>\n",
       "      <th>2</th>\n",
       "      <td>4.233180e-06</td>\n",
       "      <td>1.560159e-08</td>\n",
       "      <td>0.0</td>\n",
       "      <td>0.000000</td>\n",
       "      <td>6.702535e-07</td>\n",
       "      <td>2.401831e-09</td>\n",
       "      <td>0.0</td>\n",
       "      <td>0.0</td>\n",
       "      <td>0.001521</td>\n",
       "      <td>0.0</td>\n",
       "    </tr>\n",
       "    <tr>\n",
       "      <th>3</th>\n",
       "      <td>0.000000e+00</td>\n",
       "      <td>0.000000e+00</td>\n",
       "      <td>0.0</td>\n",
       "      <td>0.022825</td>\n",
       "      <td>0.000000e+00</td>\n",
       "      <td>0.000000e+00</td>\n",
       "      <td>0.0</td>\n",
       "      <td>0.0</td>\n",
       "      <td>0.001521</td>\n",
       "      <td>0.0</td>\n",
       "    </tr>\n",
       "    <tr>\n",
       "      <th>4</th>\n",
       "      <td>3.845139e-06</td>\n",
       "      <td>1.422322e-08</td>\n",
       "      <td>0.0</td>\n",
       "      <td>0.000000</td>\n",
       "      <td>1.269954e-06</td>\n",
       "      <td>4.710808e-09</td>\n",
       "      <td>0.0</td>\n",
       "      <td>0.0</td>\n",
       "      <td>0.001141</td>\n",
       "      <td>0.0</td>\n",
       "    </tr>\n",
       "  </tbody>\n",
       "</table>\n",
       "</div>"
      ],
      "text/plain": [
       "        rx-pkts      rx-bytes  rx-error  rx_dropped       tx-pkts  \\\n",
       "0  3.174885e-07  8.480693e-10       0.0    0.000000  4.621222e-06   \n",
       "1  3.880415e-07  9.718750e-10       0.0    0.000000  4.515392e-06   \n",
       "2  4.233180e-06  1.560159e-08       0.0    0.000000  6.702535e-07   \n",
       "3  0.000000e+00  0.000000e+00       0.0    0.022825  0.000000e+00   \n",
       "4  3.845139e-06  1.422322e-08       0.0    0.000000  1.269954e-06   \n",
       "\n",
       "       tx-bytes  tx-error  tx_dropped  duration_nsec  label  \n",
       "0  1.710789e-08       0.0         0.0       0.001521    0.0  \n",
       "1  1.687059e-08       0.0         0.0       0.001521    0.0  \n",
       "2  2.401831e-09       0.0         0.0       0.001521    0.0  \n",
       "3  0.000000e+00       0.0         0.0       0.001521    0.0  \n",
       "4  4.710808e-09       0.0         0.0       0.001141    0.0  "
      ]
     },
     "execution_count": 6,
     "metadata": {},
     "output_type": "execute_result"
    }
   ],
   "source": [
    "scaler = preprocessing.MinMaxScaler()\n",
    "df_nrm= scaler.fit_transform(df)\n",
    "df_nv = pd.DataFrame(df_nrm, columns=df.columns)\n",
    "df_nv.head()"
   ]
  },
  {
   "cell_type": "code",
   "execution_count": 8,
   "id": "be043eb7",
   "metadata": {},
   "outputs": [],
   "source": [
    "X = df_nv.drop('label', axis=1).astype(float)\n",
    "y = df_nv['label']"
   ]
  },
  {
   "cell_type": "code",
   "execution_count": 9,
   "id": "53774a86",
   "metadata": {},
   "outputs": [],
   "source": [
    "X_train, X_temp, y_train, y_temp = train_test_split(X, y, test_size=0.3, random_state=42)\n",
    "X_val, X_test, y_val, y_test = train_test_split(X_temp, y_temp, test_size=0.5, random_state=42)"
   ]
  },
  {
   "cell_type": "code",
   "execution_count": 10,
   "id": "2db81d80",
   "metadata": {},
   "outputs": [
    {
     "name": "stdout",
     "output_type": "stream",
     "text": [
      "Fitting 3 folds for each of 12 candidates, totalling 36 fits\n",
      "Précision sur l'ensemble de validation : 93.58%\n",
      "Précision sur l'ensemble de test : 94.37%\n",
      "Meilleurs hyperparamètres: {'metric': 'manhattan', 'n_neighbors': 10, 'weights': 'distance'}\n",
      "              precision    recall  f1-score   support\n",
      "\n",
      "         0.0       0.97      0.97      0.97      4361\n",
      "         1.0       0.74      0.78      0.76       562\n",
      "\n",
      "    accuracy                           0.94      4923\n",
      "   macro avg       0.86      0.87      0.86      4923\n",
      "weighted avg       0.94      0.94      0.94      4923\n",
      "\n",
      "--- 5.171551465988159 secondes --- temps pour le modèle KNN \n"
     ]
    }
   ],
   "source": [
    "start_time = time.time()\n",
    "\n",
    "# GridSearchCV pour trouver les meilleurs hyperparamètres\n",
    "knnc = KNeighborsClassifier()\n",
    "param_grid = {\n",
    "    'n_neighbors': [3, 5, 10],\n",
    "    'weights': ['uniform', 'distance'],\n",
    "    'metric': ['euclidean', 'manhattan']\n",
    "}\n",
    "\n",
    "knnc_search = GridSearchCV(knnc, param_grid=param_grid, n_jobs=-1, cv=3, scoring='accuracy', verbose=2)\n",
    "knnc_search.fit(X_train, y_train)\n",
    "\n",
    "best_params = knnc_search.best_params_\n",
    "n_neighbors = best_params['n_neighbors']\n",
    "weights = best_params['weights']\n",
    "metric = best_params['metric']\n",
    "\n",
    "# Utilisation des meilleurs hyperparamètres sur l'ensemble d'entraînement\n",
    "KNN = KNeighborsClassifier(n_neighbors=n_neighbors, metric=metric, weights=weights)\n",
    "KNN.fit(X_train, y_train)\n",
    "\n",
    "# Prédiction et évaluation sur l'ensemble de validation\n",
    "predicted_val = KNN.predict(X_val)\n",
    "accuracy_val = accuracy_score(y_val, predicted_val)\n",
    "print(f\"Précision sur l'ensemble de validation : {round(accuracy_val * 100, 2)}%\")\n",
    "\n",
    "# Prédiction et évaluation sur l'ensemble de test\n",
    "predicted_test = KNN.predict(X_test)\n",
    "accuracy_test = accuracy_score(y_test, predicted_test)\n",
    "print(f\"Précision sur l'ensemble de test : {round(accuracy_test * 100, 2)}%\")\n",
    "\n",
    "# Affichage des résultats finaux\n",
    "print(\"Meilleurs hyperparamètres:\", best_params)\n",
    "print(classification_report(predicted_test, y_test))\n",
    "print(\"--- %s secondes --- temps pour le modèle KNN \" % (time.time() - start_time))"
   ]
  },
  {
   "cell_type": "code",
   "execution_count": null,
   "id": "99bc60e3",
   "metadata": {},
   "outputs": [],
   "source": []
  }
 ],
 "metadata": {
  "kernelspec": {
   "display_name": "Python 3 (ipykernel)",
   "language": "python",
   "name": "python3"
  },
  "language_info": {
   "codemirror_mode": {
    "name": "ipython",
    "version": 3
   },
   "file_extension": ".py",
   "mimetype": "text/x-python",
   "name": "python",
   "nbconvert_exporter": "python",
   "pygments_lexer": "ipython3",
   "version": "3.10.9"
  }
 },
 "nbformat": 4,
 "nbformat_minor": 5
}
