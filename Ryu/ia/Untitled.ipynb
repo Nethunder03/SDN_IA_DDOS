{
 "cells": [
  {
   "cell_type": "markdown",
   "id": "cea02e54",
   "metadata": {},
   "source": [
    "# Importons les bibliotehques necessaire"
   ]
  },
  {
   "cell_type": "code",
   "execution_count": 2,
   "id": "65092ad4",
   "metadata": {},
   "outputs": [
    {
     "name": "stderr",
     "output_type": "stream",
     "text": [
      "2023-11-12 18:35:06.042542: I tensorflow/core/platform/cpu_feature_guard.cc:193] This TensorFlow binary is optimized with oneAPI Deep Neural Network Library (oneDNN) to use the following CPU instructions in performance-critical operations:  SSE4.1 SSE4.2 AVX AVX2 FMA\n",
      "To enable them in other operations, rebuild TensorFlow with the appropriate compiler flags.\n"
     ]
    }
   ],
   "source": [
    "import pandas as pd\n",
    "import numpy as np\n",
    "import matplotlib.pyplot as plt\n",
    "import seaborn as sns\n",
    "from sklearn.metrics import confusion_matrix, accuracy_score, classification_report\n",
    "from sklearn.model_selection import train_test_split, cross_val_score, cross_val_predict, GridSearchCV, StratifiedKFold\n",
    "from sklearn import metrics, preprocessing\n",
    "from sklearn.tree import DecisionTreeClassifier\n",
    "from sklearn.linear_model import LogisticRegression\n",
    "from sklearn import svm\n",
    "from sklearn.neighbors import KNeighborsClassifier\n",
    "from sklearn.ensemble import RandomForestClassifier\n",
    "from sklearn.pipeline import Pipeline\n",
    "\n",
    "import tensorflow as tf\n",
    "from keras.models import Sequential\n",
    "from keras.layers import LSTM, Dense, BatchNormalization, Dropout\n",
    "from keras.wrappers.scikit_learn import KerasClassifier\n",
    "from pyDeepInsight import ImageTransformer, LogScaler\n",
    "from keras.callbacks import EarlyStopping\n",
    "import time"
   ]
  },
  {
   "cell_type": "markdown",
   "id": "4e83ffa1",
   "metadata": {},
   "source": [
    "## Partie 1 : Analyse des donnees"
   ]
  },
  {
   "cell_type": "code",
   "execution_count": 3,
   "id": "7ef53be7",
   "metadata": {},
   "outputs": [],
   "source": [
    "df_ = pd.read_csv('../FlowStatsfile.csv')"
   ]
  },
  {
   "cell_type": "code",
   "execution_count": 3,
   "id": "0444d880",
   "metadata": {},
   "outputs": [
    {
     "data": {
      "text/html": [
       "<div>\n",
       "<style scoped>\n",
       "    .dataframe tbody tr th:only-of-type {\n",
       "        vertical-align: middle;\n",
       "    }\n",
       "\n",
       "    .dataframe tbody tr th {\n",
       "        vertical-align: top;\n",
       "    }\n",
       "\n",
       "    .dataframe thead th {\n",
       "        text-align: right;\n",
       "    }\n",
       "</style>\n",
       "<table border=\"1\" class=\"dataframe\">\n",
       "  <thead>\n",
       "    <tr style=\"text-align: right;\">\n",
       "      <th></th>\n",
       "      <th>timestamp</th>\n",
       "      <th>datapath</th>\n",
       "      <th>flow_id</th>\n",
       "      <th>in_port</th>\n",
       "      <th>eth_type</th>\n",
       "      <th>eth_src</th>\n",
       "      <th>eth_dst</th>\n",
       "      <th>ip_src</th>\n",
       "      <th>tp_src</th>\n",
       "      <th>ip_dst</th>\n",
       "      <th>...</th>\n",
       "      <th>protocol</th>\n",
       "      <th>pktcount</th>\n",
       "      <th>bytecount</th>\n",
       "      <th>flowdur_sec</th>\n",
       "      <th>flowdur_nsec</th>\n",
       "      <th>pktcount_sec</th>\n",
       "      <th>pktcount_nsec</th>\n",
       "      <th>bytecount_sec</th>\n",
       "      <th>bytecount_nsec</th>\n",
       "      <th>label</th>\n",
       "    </tr>\n",
       "  </thead>\n",
       "  <tbody>\n",
       "    <tr>\n",
       "      <th>0</th>\n",
       "      <td>1.699748e+09</td>\n",
       "      <td>2</td>\n",
       "      <td>172.24.16.260172.24.16.280</td>\n",
       "      <td>2</td>\n",
       "      <td>2048</td>\n",
       "      <td>02:a7:00:00:00:04</td>\n",
       "      <td>02:a7:00:00:00:01</td>\n",
       "      <td>172.24.16.26</td>\n",
       "      <td>0</td>\n",
       "      <td>172.24.16.28</td>\n",
       "      <td>...</td>\n",
       "      <td>ICMP</td>\n",
       "      <td>0</td>\n",
       "      <td>0</td>\n",
       "      <td>16</td>\n",
       "      <td>989000000</td>\n",
       "      <td>0.0</td>\n",
       "      <td>0.0</td>\n",
       "      <td>0.000000</td>\n",
       "      <td>0.0</td>\n",
       "      <td>0.0</td>\n",
       "    </tr>\n",
       "    <tr>\n",
       "      <th>1</th>\n",
       "      <td>1.699748e+09</td>\n",
       "      <td>2</td>\n",
       "      <td>172.24.16.270172.24.16.280</td>\n",
       "      <td>2</td>\n",
       "      <td>2048</td>\n",
       "      <td>02:a7:00:00:00:09</td>\n",
       "      <td>02:a7:00:00:00:01</td>\n",
       "      <td>172.24.16.27</td>\n",
       "      <td>0</td>\n",
       "      <td>172.24.16.28</td>\n",
       "      <td>...</td>\n",
       "      <td>ICMP</td>\n",
       "      <td>0</td>\n",
       "      <td>0</td>\n",
       "      <td>16</td>\n",
       "      <td>906000000</td>\n",
       "      <td>0.0</td>\n",
       "      <td>3.0643513789581205e-09</td>\n",
       "      <td>33.000000</td>\n",
       "      <td>2.0224719101123595e-07</td>\n",
       "      <td>0.0</td>\n",
       "    </tr>\n",
       "    <tr>\n",
       "      <th>2</th>\n",
       "      <td>1.699748e+09</td>\n",
       "      <td>2</td>\n",
       "      <td>172.24.16.280172.24.16.260</td>\n",
       "      <td>4</td>\n",
       "      <td>2048</td>\n",
       "      <td>02:a7:00:00:00:01</td>\n",
       "      <td>02:a7:00:00:00:04</td>\n",
       "      <td>172.24.16.28</td>\n",
       "      <td>0</td>\n",
       "      <td>172.24.16.26</td>\n",
       "      <td>...</td>\n",
       "      <td>ICMP</td>\n",
       "      <td>0</td>\n",
       "      <td>0</td>\n",
       "      <td>16</td>\n",
       "      <td>995000000</td>\n",
       "      <td>0.0</td>\n",
       "      <td>4.400440044004401e-09</td>\n",
       "      <td>108.166667</td>\n",
       "      <td>7.139713971397139e-07</td>\n",
       "      <td>0.0</td>\n",
       "    </tr>\n",
       "    <tr>\n",
       "      <th>3</th>\n",
       "      <td>1.699748e+09</td>\n",
       "      <td>2</td>\n",
       "      <td>172.24.16.280172.24.16.270</td>\n",
       "      <td>1</td>\n",
       "      <td>2048</td>\n",
       "      <td>02:a7:00:00:00:01</td>\n",
       "      <td>02:a7:00:00:00:09</td>\n",
       "      <td>172.24.16.28</td>\n",
       "      <td>0</td>\n",
       "      <td>172.24.16.27</td>\n",
       "      <td>...</td>\n",
       "      <td>ICMP</td>\n",
       "      <td>0</td>\n",
       "      <td>0</td>\n",
       "      <td>16</td>\n",
       "      <td>966000000</td>\n",
       "      <td>0.0</td>\n",
       "      <td>6.2015503875968995e-09</td>\n",
       "      <td>108.166667</td>\n",
       "      <td>1.0062015503875969e-06</td>\n",
       "      <td>0.0</td>\n",
       "    </tr>\n",
       "    <tr>\n",
       "      <th>4</th>\n",
       "      <td>1.699748e+09</td>\n",
       "      <td>5</td>\n",
       "      <td>172.24.16.260172.24.16.280</td>\n",
       "      <td>4</td>\n",
       "      <td>2048</td>\n",
       "      <td>02:a7:00:00:00:04</td>\n",
       "      <td>02:a7:00:00:00:01</td>\n",
       "      <td>172.24.16.26</td>\n",
       "      <td>0</td>\n",
       "      <td>172.24.16.28</td>\n",
       "      <td>...</td>\n",
       "      <td>ICMP</td>\n",
       "      <td>0</td>\n",
       "      <td>0</td>\n",
       "      <td>16</td>\n",
       "      <td>985000000</td>\n",
       "      <td>0.0</td>\n",
       "      <td>6.25e-08</td>\n",
       "      <td>54.714286</td>\n",
       "      <td>7.979166666666666e-06</td>\n",
       "      <td>0.0</td>\n",
       "    </tr>\n",
       "  </tbody>\n",
       "</table>\n",
       "<p>5 rows × 23 columns</p>\n",
       "</div>"
      ],
      "text/plain": [
       "      timestamp  datapath                     flow_id  in_port  eth_type  \\\n",
       "0  1.699748e+09         2  172.24.16.260172.24.16.280        2      2048   \n",
       "1  1.699748e+09         2  172.24.16.270172.24.16.280        2      2048   \n",
       "2  1.699748e+09         2  172.24.16.280172.24.16.260        4      2048   \n",
       "3  1.699748e+09         2  172.24.16.280172.24.16.270        1      2048   \n",
       "4  1.699748e+09         5  172.24.16.260172.24.16.280        4      2048   \n",
       "\n",
       "             eth_src            eth_dst        ip_src  tp_src        ip_dst  \\\n",
       "0  02:a7:00:00:00:04  02:a7:00:00:00:01  172.24.16.26       0  172.24.16.28   \n",
       "1  02:a7:00:00:00:09  02:a7:00:00:00:01  172.24.16.27       0  172.24.16.28   \n",
       "2  02:a7:00:00:00:01  02:a7:00:00:00:04  172.24.16.28       0  172.24.16.26   \n",
       "3  02:a7:00:00:00:01  02:a7:00:00:00:09  172.24.16.28       0  172.24.16.27   \n",
       "4  02:a7:00:00:00:04  02:a7:00:00:00:01  172.24.16.26       0  172.24.16.28   \n",
       "\n",
       "   ...  protocol  pktcount  bytecount flowdur_sec  flowdur_nsec  pktcount_sec  \\\n",
       "0  ...      ICMP         0          0          16     989000000           0.0   \n",
       "1  ...      ICMP         0          0          16     906000000           0.0   \n",
       "2  ...      ICMP         0          0          16     995000000           0.0   \n",
       "3  ...      ICMP         0          0          16     966000000           0.0   \n",
       "4  ...      ICMP         0          0          16     985000000           0.0   \n",
       "\n",
       "            pktcount_nsec  bytecount_sec          bytecount_nsec label  \n",
       "0                     0.0       0.000000                     0.0   0.0  \n",
       "1  3.0643513789581205e-09      33.000000  2.0224719101123595e-07   0.0  \n",
       "2   4.400440044004401e-09     108.166667   7.139713971397139e-07   0.0  \n",
       "3  6.2015503875968995e-09     108.166667  1.0062015503875969e-06   0.0  \n",
       "4                6.25e-08      54.714286   7.979166666666666e-06   0.0  \n",
       "\n",
       "[5 rows x 23 columns]"
      ]
     },
     "execution_count": 3,
     "metadata": {},
     "output_type": "execute_result"
    }
   ],
   "source": [
    "df_.head()"
   ]
  },
  {
   "cell_type": "code",
   "execution_count": 7,
   "id": "d0bf7e9f",
   "metadata": {},
   "outputs": [
    {
     "data": {
      "text/plain": [
       "(123165, 23)"
      ]
     },
     "execution_count": 7,
     "metadata": {},
     "output_type": "execute_result"
    }
   ],
   "source": [
    "df_.shape"
   ]
  },
  {
   "cell_type": "code",
   "execution_count": 5,
   "id": "2b5e713c",
   "metadata": {},
   "outputs": [
    {
     "data": {
      "text/plain": [
       "(123165, 23)"
      ]
     },
     "execution_count": 5,
     "metadata": {},
     "output_type": "execute_result"
    }
   ],
   "source": [
    "df_.shape"
   ]
  },
  {
   "cell_type": "code",
   "execution_count": 10,
   "id": "04ff3a11",
   "metadata": {},
   "outputs": [
    {
     "data": {
      "text/plain": [
       "array([ 0.,  1., nan])"
      ]
     },
     "execution_count": 10,
     "metadata": {},
     "output_type": "execute_result"
    }
   ],
   "source": [
    "df.label.unique()"
   ]
  },
  {
   "cell_type": "code",
   "execution_count": 9,
   "id": "54fde460",
   "metadata": {},
   "outputs": [
    {
     "data": {
      "text/plain": [
       "0.0    64747\n",
       "1.0    58405\n",
       "Name: label, dtype: int64"
      ]
     },
     "execution_count": 9,
     "metadata": {},
     "output_type": "execute_result"
    }
   ],
   "source": [
    "df.label.value_counts()"
   ]
  },
  {
   "cell_type": "code",
   "execution_count": 8,
   "id": "571be8d9",
   "metadata": {},
   "outputs": [
    {
     "data": {
      "text/plain": [
       "TCP     45532\n",
       "UDP     40867\n",
       "ICMP    36766\n",
       "Name: protocol, dtype: int64"
      ]
     },
     "execution_count": 8,
     "metadata": {},
     "output_type": "execute_result"
    }
   ],
   "source": [
    "df.protocol.value_counts()"
   ]
  },
  {
   "cell_type": "code",
   "execution_count": 9,
   "id": "1d0d3202",
   "metadata": {},
   "outputs": [
    {
     "data": {
      "text/plain": [
       "timestamp          0\n",
       "datapath           0\n",
       "flow_id            0\n",
       "in_port            0\n",
       "eth_type           0\n",
       "eth_src            0\n",
       "eth_dst            0\n",
       "ip_src             0\n",
       "tp_src             0\n",
       "ip_dst             0\n",
       "tp_dst             0\n",
       "icmp_code          0\n",
       "icmp_type          0\n",
       "protocol           0\n",
       "pktcount           0\n",
       "bytecount          0\n",
       "flowdur_sec        0\n",
       "flowdur_nsec       0\n",
       "pktcount_sec       0\n",
       "pktcount_nsec     13\n",
       "bytecount_sec     13\n",
       "bytecount_nsec    13\n",
       "label             13\n",
       "dtype: int64"
      ]
     },
     "execution_count": 9,
     "metadata": {},
     "output_type": "execute_result"
    }
   ],
   "source": [
    "df.isna().sum()"
   ]
  },
  {
   "cell_type": "code",
   "execution_count": 235,
   "id": "6ec9f99e",
   "metadata": {},
   "outputs": [
    {
     "data": {
      "image/png": "[encoded data removed]",
      "text/plain": [
       "<Figure size 900x600 with 1 Axes>"
      ]
     },
     "metadata": {},
     "output_type": "display_data"
    }
   ],
   "source": [
    "labels = (\"Trafic Malveillant\", \"Trafic normal\")\n",
    "sizes = [len(df_[df_[\"label\"]== 1]), len(df_[df_[\"label\"]== 0])]\n",
    "\n",
    "colors = ['gold', 'lightcoral']\n",
    "\n",
    "plt.figure(figsize=(9, 6))\n",
    "plt.title(\"Le pourcentage de demandes bénignes et malveillantes dans l'ensemble de données\")\n",
    "\n",
    "plt.pie(sizes, labels=labels, colors=colors, autopct='%1.1f%%', shadow=True, startangle=140)\n",
    "\n",
    "plt.axis('equal')\n",
    "\n",
    "plt.show()"
   ]
  },
  {
   "cell_type": "code",
   "execution_count": null,
   "id": "062fafd2",
   "metadata": {},
   "outputs": [],
   "source": []
  },
  {
   "cell_type": "code",
   "execution_count": 212,
   "id": "cea62c4b",
   "metadata": {},
   "outputs": [
    {
     "data": {
      "image/png": "[encoded data removed]",
      "text/plain": [
       "<Figure size 800x400 with 2 Axes>"
      ]
     },
     "metadata": {},
     "output_type": "display_data"
    }
   ],
   "source": [
    "plt.figure(figsize=(8,4))\n",
    "plt.title(\"Répartition du trafic au sein de chaque type de protocole\")\n",
    "g1 = sns.countplot(x='protocole', data=df_,alpha=0.5)\n",
    "gt = g1.twinx()\n",
    "gt = sns.countplot(x='protocole', hue='label',alpha=0.8, data=df_)\n",
    "gt.set_ylabel('Protocole', fontsize=16)\n",
    "plt.savefig('Protocole.png')"
   ]
  },
  {
   "cell_type": "code",
   "execution_count": 6,
   "id": "8fd77c9d",
   "metadata": {},
   "outputs": [
    {
     "data": {
      "image/png": "[encoded data removed]",
      "text/plain": [
       "<Figure size 800x480 with 1 Axes>"
      ]
     },
     "metadata": {},
     "output_type": "display_data"
    }
   ],
   "source": [
    "all_counts = df_['protocol'].value_counts().tolist()\n",
    "malicious_counts = df_[df_['label'] == 1]['protocol'].value_counts().tolist()\n",
    "protocols = df_['protocol'].value_counts().index.tolist()\n",
    "\n",
    "\n",
    "fig, ax = plt.subplots(figsize=(10, 6), dpi=80)\n",
    "bar1 = ax.bar(protocols, all_counts, color='g', label='Tout')\n",
    "bar2 = ax.bar(protocols, malicious_counts, color='r', label='Malveillant', alpha=0.7)\n",
    "#bar3 = ax.bar(protocols, normal_counts, color='b', label='Normal', alpha=0.5)\n",
    "\n",
    "for i, bar in enumerate(bar1):\n",
    "    ax.text(bar.get_x() + bar.get_width() / 2 - 0.15, bar.get_height() + 200, str(all_counts[i]), color='black', size=17)\n",
    "\n",
    "for i, bar in enumerate(bar2):\n",
    "    ax.text(bar.get_x() + bar.get_width() / 2 - 0.15, bar.get_height() + 200, str(malicious_counts[i]), color='w', size=17)\n",
    "\n",
    "ax.set_xlabel('Protocol')\n",
    "ax.set_ylabel('Compteur')\n",
    "ax.legend()\n",
    "ax.set_title('Le nombre de requêtes provenant de différents protocoles')\n",
    "plt.savefig('Protocol.png')\n",
    "#plt.show()"
   ]
  },
  {
   "cell_type": "code",
   "execution_count": 237,
   "id": "1e0cf3d1",
   "metadata": {},
   "outputs": [
    {
     "data": {
      "text/plain": [
       "Text(0.5, 1.0, 'Durée de flux par second')"
      ]
     },
     "execution_count": 237,
     "metadata": {},
     "output_type": "execute_result"
    },
    {
     "data": {
      "image/png": "[encoded data removed]",
      "text/plain": [
       "<Figure size 640x320 with 1 Axes>"
      ]
     },
     "metadata": {},
     "output_type": "display_data"
    }
   ],
   "source": [
    "plt.figure(figsize=(8, 4), dpi=80)\n",
    "plt.hist(df_.flowdur_sec, bins=20, color='b')\n",
    "plt.title('Durée de flux par second')\n",
    "#plt.savefig(\"Duree_S.png\")"
   ]
  },
  {
   "cell_type": "code",
   "execution_count": null,
   "id": "85652dba",
   "metadata": {},
   "outputs": [],
   "source": [
    "plt.figure(figsize=(8, 4), dpi=80)\n",
    "plt.hist(df_.flowdur_nsec, bins=25, color='g')\n",
    "plt.title('Durée de flux par nanosecond')\n",
    "#plt.savefig(\"Duree_Ns.png\")"
   ]
  },
  {
   "cell_type": "markdown",
   "id": "0240bbb2",
   "metadata": {},
   "source": [
    "# Partie 2 : Prétraitement des données"
   ]
  },
  {
   "cell_type": "markdown",
   "id": "f08e943a",
   "metadata": {},
   "source": [
    "## Suppressions de toutes les informations inutiles"
   ]
  },
  {
   "cell_type": "code",
   "execution_count": 3,
   "id": "218bf397",
   "metadata": {},
   "outputs": [],
   "source": [
    "df_.dropna(inplace=True)\n",
    "df_.drop(['timestamp','datapath','flow_id','in_port','eth_type','eth_src', 'eth_dst', 'ip_src', 'ip_dst'], axis=1, inplace=True)"
   ]
  },
  {
   "cell_type": "markdown",
   "id": "2f03d734",
   "metadata": {},
   "source": [
    "## Créons des variables factices pour la colonne Protocole"
   ]
  },
  {
   "cell_type": "code",
   "execution_count": 4,
   "id": "0c491eec",
   "metadata": {},
   "outputs": [
    {
     "name": "stdout",
     "output_type": "stream",
     "text": [
      "<class 'pandas.core.frame.DataFrame'>\n",
      "Int64Index: 123152 entries, 0 to 123164\n",
      "Data columns (total 14 columns):\n",
      " #   Column          Non-Null Count   Dtype  \n",
      "---  ------          --------------   -----  \n",
      " 0   tp_src          123152 non-null  int64  \n",
      " 1   tp_dst          123152 non-null  int64  \n",
      " 2   icmp_code       123152 non-null  int64  \n",
      " 3   icmp_type       123152 non-null  int64  \n",
      " 4   protocol        123152 non-null  object \n",
      " 5   pktcount        123152 non-null  int64  \n",
      " 6   bytecount       123152 non-null  int64  \n",
      " 7   flowdur_sec     123152 non-null  int64  \n",
      " 8   flowdur_nsec    123152 non-null  int64  \n",
      " 9   pktcount_sec    123152 non-null  float64\n",
      " 10  pktcount_nsec   123152 non-null  float64\n",
      " 11  bytecount_sec   123152 non-null  float64\n",
      " 12  bytecount_nsec  123152 non-null  float64\n",
      " 13  label           123152 non-null  float64\n",
      "dtypes: float64(5), int64(8), object(1)\n",
      "memory usage: 14.1+ MB\n"
     ]
    },
    {
     "data": {
      "text/plain": [
       "array(['ICMP', 'TCP', 'UDP'], dtype=object)"
      ]
     },
     "execution_count": 4,
     "metadata": {},
     "output_type": "execute_result"
    }
   ],
   "source": [
    "df_.info()\n",
    "df_.protocol.unique()"
   ]
  },
  {
   "cell_type": "code",
   "execution_count": 5,
   "id": "9d7b2a56",
   "metadata": {},
   "outputs": [],
   "source": [
    "df_dummies = pd.get_dummies(df_['protocol'])\n",
    "df_ = pd.concat([df_, df_dummies], axis=1)"
   ]
  },
  {
   "cell_type": "code",
   "execution_count": 6,
   "id": "d73412e2",
   "metadata": {},
   "outputs": [
    {
     "data": {
      "text/html": [
       "<div>\n",
       "<style scoped>\n",
       "    .dataframe tbody tr th:only-of-type {\n",
       "        vertical-align: middle;\n",
       "    }\n",
       "\n",
       "    .dataframe tbody tr th {\n",
       "        vertical-align: top;\n",
       "    }\n",
       "\n",
       "    .dataframe thead th {\n",
       "        text-align: right;\n",
       "    }\n",
       "</style>\n",
       "<table border=\"1\" class=\"dataframe\">\n",
       "  <thead>\n",
       "    <tr style=\"text-align: right;\">\n",
       "      <th></th>\n",
       "      <th>tp_src</th>\n",
       "      <th>tp_dst</th>\n",
       "      <th>icmp_code</th>\n",
       "      <th>icmp_type</th>\n",
       "      <th>protocol</th>\n",
       "      <th>pktcount</th>\n",
       "      <th>bytecount</th>\n",
       "      <th>flowdur_sec</th>\n",
       "      <th>flowdur_nsec</th>\n",
       "      <th>pktcount_sec</th>\n",
       "      <th>pktcount_nsec</th>\n",
       "      <th>bytecount_sec</th>\n",
       "      <th>bytecount_nsec</th>\n",
       "      <th>label</th>\n",
       "      <th>ICMP</th>\n",
       "      <th>TCP</th>\n",
       "      <th>UDP</th>\n",
       "    </tr>\n",
       "  </thead>\n",
       "  <tbody>\n",
       "    <tr>\n",
       "      <th>0</th>\n",
       "      <td>0</td>\n",
       "      <td>0</td>\n",
       "      <td>0</td>\n",
       "      <td>0</td>\n",
       "      <td>ICMP</td>\n",
       "      <td>0</td>\n",
       "      <td>0</td>\n",
       "      <td>16</td>\n",
       "      <td>989000000</td>\n",
       "      <td>0.0</td>\n",
       "      <td>0.000000e+00</td>\n",
       "      <td>0.000000</td>\n",
       "      <td>0.000000e+00</td>\n",
       "      <td>0.0</td>\n",
       "      <td>1</td>\n",
       "      <td>0</td>\n",
       "      <td>0</td>\n",
       "    </tr>\n",
       "    <tr>\n",
       "      <th>1</th>\n",
       "      <td>0</td>\n",
       "      <td>0</td>\n",
       "      <td>0</td>\n",
       "      <td>0</td>\n",
       "      <td>ICMP</td>\n",
       "      <td>0</td>\n",
       "      <td>0</td>\n",
       "      <td>16</td>\n",
       "      <td>906000000</td>\n",
       "      <td>0.0</td>\n",
       "      <td>3.064351e-09</td>\n",
       "      <td>33.000000</td>\n",
       "      <td>2.022472e-07</td>\n",
       "      <td>0.0</td>\n",
       "      <td>1</td>\n",
       "      <td>0</td>\n",
       "      <td>0</td>\n",
       "    </tr>\n",
       "    <tr>\n",
       "      <th>2</th>\n",
       "      <td>0</td>\n",
       "      <td>0</td>\n",
       "      <td>0</td>\n",
       "      <td>8</td>\n",
       "      <td>ICMP</td>\n",
       "      <td>0</td>\n",
       "      <td>0</td>\n",
       "      <td>16</td>\n",
       "      <td>995000000</td>\n",
       "      <td>0.0</td>\n",
       "      <td>4.400440e-09</td>\n",
       "      <td>108.166667</td>\n",
       "      <td>7.139714e-07</td>\n",
       "      <td>0.0</td>\n",
       "      <td>1</td>\n",
       "      <td>0</td>\n",
       "      <td>0</td>\n",
       "    </tr>\n",
       "    <tr>\n",
       "      <th>3</th>\n",
       "      <td>0</td>\n",
       "      <td>0</td>\n",
       "      <td>0</td>\n",
       "      <td>8</td>\n",
       "      <td>ICMP</td>\n",
       "      <td>0</td>\n",
       "      <td>0</td>\n",
       "      <td>16</td>\n",
       "      <td>966000000</td>\n",
       "      <td>0.0</td>\n",
       "      <td>6.201550e-09</td>\n",
       "      <td>108.166667</td>\n",
       "      <td>1.006202e-06</td>\n",
       "      <td>0.0</td>\n",
       "      <td>1</td>\n",
       "      <td>0</td>\n",
       "      <td>0</td>\n",
       "    </tr>\n",
       "    <tr>\n",
       "      <th>4</th>\n",
       "      <td>0</td>\n",
       "      <td>0</td>\n",
       "      <td>0</td>\n",
       "      <td>0</td>\n",
       "      <td>ICMP</td>\n",
       "      <td>0</td>\n",
       "      <td>0</td>\n",
       "      <td>16</td>\n",
       "      <td>985000000</td>\n",
       "      <td>0.0</td>\n",
       "      <td>6.250000e-08</td>\n",
       "      <td>54.714286</td>\n",
       "      <td>7.979167e-06</td>\n",
       "      <td>0.0</td>\n",
       "      <td>1</td>\n",
       "      <td>0</td>\n",
       "      <td>0</td>\n",
       "    </tr>\n",
       "  </tbody>\n",
       "</table>\n",
       "</div>"
      ],
      "text/plain": [
       "   tp_src  tp_dst  icmp_code  icmp_type protocol  pktcount  bytecount  \\\n",
       "0       0       0          0          0     ICMP         0          0   \n",
       "1       0       0          0          0     ICMP         0          0   \n",
       "2       0       0          0          8     ICMP         0          0   \n",
       "3       0       0          0          8     ICMP         0          0   \n",
       "4       0       0          0          0     ICMP         0          0   \n",
       "\n",
       "   flowdur_sec  flowdur_nsec  pktcount_sec  pktcount_nsec  bytecount_sec  \\\n",
       "0           16     989000000           0.0   0.000000e+00       0.000000   \n",
       "1           16     906000000           0.0   3.064351e-09      33.000000   \n",
       "2           16     995000000           0.0   4.400440e-09     108.166667   \n",
       "3           16     966000000           0.0   6.201550e-09     108.166667   \n",
       "4           16     985000000           0.0   6.250000e-08      54.714286   \n",
       "\n",
       "   bytecount_nsec  label  ICMP  TCP  UDP  \n",
       "0    0.000000e+00    0.0     1    0    0  \n",
       "1    2.022472e-07    0.0     1    0    0  \n",
       "2    7.139714e-07    0.0     1    0    0  \n",
       "3    1.006202e-06    0.0     1    0    0  \n",
       "4    7.979167e-06    0.0     1    0    0  "
      ]
     },
     "execution_count": 6,
     "metadata": {},
     "output_type": "execute_result"
    }
   ],
   "source": [
    "df_.head()"
   ]
  },
  {
   "cell_type": "code",
   "execution_count": 7,
   "id": "bc0f8b35",
   "metadata": {},
   "outputs": [],
   "source": [
    "df_[\"classe\"] = df_[\"label\"]\n",
    "del df_[\"label\"]\n",
    "del df_[\"protocol\"]"
   ]
  },
  {
   "cell_type": "code",
   "execution_count": 8,
   "id": "908548bf",
   "metadata": {},
   "outputs": [
    {
     "data": {
      "text/html": [
       "<div>\n",
       "<style scoped>\n",
       "    .dataframe tbody tr th:only-of-type {\n",
       "        vertical-align: middle;\n",
       "    }\n",
       "\n",
       "    .dataframe tbody tr th {\n",
       "        vertical-align: top;\n",
       "    }\n",
       "\n",
       "    .dataframe thead th {\n",
       "        text-align: right;\n",
       "    }\n",
       "</style>\n",
       "<table border=\"1\" class=\"dataframe\">\n",
       "  <thead>\n",
       "    <tr style=\"text-align: right;\">\n",
       "      <th></th>\n",
       "      <th>tp_src</th>\n",
       "      <th>tp_dst</th>\n",
       "      <th>icmp_code</th>\n",
       "      <th>icmp_type</th>\n",
       "      <th>pktcount</th>\n",
       "      <th>bytecount</th>\n",
       "      <th>flowdur_sec</th>\n",
       "      <th>flowdur_nsec</th>\n",
       "      <th>pktcount_sec</th>\n",
       "      <th>pktcount_nsec</th>\n",
       "      <th>bytecount_sec</th>\n",
       "      <th>bytecount_nsec</th>\n",
       "      <th>ICMP</th>\n",
       "      <th>TCP</th>\n",
       "      <th>UDP</th>\n",
       "      <th>classe</th>\n",
       "    </tr>\n",
       "  </thead>\n",
       "  <tbody>\n",
       "    <tr>\n",
       "      <th>0</th>\n",
       "      <td>0</td>\n",
       "      <td>0</td>\n",
       "      <td>0</td>\n",
       "      <td>0</td>\n",
       "      <td>0</td>\n",
       "      <td>0</td>\n",
       "      <td>16</td>\n",
       "      <td>989000000</td>\n",
       "      <td>0.0</td>\n",
       "      <td>0.000000e+00</td>\n",
       "      <td>0.000000</td>\n",
       "      <td>0.000000e+00</td>\n",
       "      <td>1</td>\n",
       "      <td>0</td>\n",
       "      <td>0</td>\n",
       "      <td>0.0</td>\n",
       "    </tr>\n",
       "    <tr>\n",
       "      <th>1</th>\n",
       "      <td>0</td>\n",
       "      <td>0</td>\n",
       "      <td>0</td>\n",
       "      <td>0</td>\n",
       "      <td>0</td>\n",
       "      <td>0</td>\n",
       "      <td>16</td>\n",
       "      <td>906000000</td>\n",
       "      <td>0.0</td>\n",
       "      <td>3.064351e-09</td>\n",
       "      <td>33.000000</td>\n",
       "      <td>2.022472e-07</td>\n",
       "      <td>1</td>\n",
       "      <td>0</td>\n",
       "      <td>0</td>\n",
       "      <td>0.0</td>\n",
       "    </tr>\n",
       "    <tr>\n",
       "      <th>2</th>\n",
       "      <td>0</td>\n",
       "      <td>0</td>\n",
       "      <td>0</td>\n",
       "      <td>8</td>\n",
       "      <td>0</td>\n",
       "      <td>0</td>\n",
       "      <td>16</td>\n",
       "      <td>995000000</td>\n",
       "      <td>0.0</td>\n",
       "      <td>4.400440e-09</td>\n",
       "      <td>108.166667</td>\n",
       "      <td>7.139714e-07</td>\n",
       "      <td>1</td>\n",
       "      <td>0</td>\n",
       "      <td>0</td>\n",
       "      <td>0.0</td>\n",
       "    </tr>\n",
       "    <tr>\n",
       "      <th>3</th>\n",
       "      <td>0</td>\n",
       "      <td>0</td>\n",
       "      <td>0</td>\n",
       "      <td>8</td>\n",
       "      <td>0</td>\n",
       "      <td>0</td>\n",
       "      <td>16</td>\n",
       "      <td>966000000</td>\n",
       "      <td>0.0</td>\n",
       "      <td>6.201550e-09</td>\n",
       "      <td>108.166667</td>\n",
       "      <td>1.006202e-06</td>\n",
       "      <td>1</td>\n",
       "      <td>0</td>\n",
       "      <td>0</td>\n",
       "      <td>0.0</td>\n",
       "    </tr>\n",
       "    <tr>\n",
       "      <th>4</th>\n",
       "      <td>0</td>\n",
       "      <td>0</td>\n",
       "      <td>0</td>\n",
       "      <td>0</td>\n",
       "      <td>0</td>\n",
       "      <td>0</td>\n",
       "      <td>16</td>\n",
       "      <td>985000000</td>\n",
       "      <td>0.0</td>\n",
       "      <td>6.250000e-08</td>\n",
       "      <td>54.714286</td>\n",
       "      <td>7.979167e-06</td>\n",
       "      <td>1</td>\n",
       "      <td>0</td>\n",
       "      <td>0</td>\n",
       "      <td>0.0</td>\n",
       "    </tr>\n",
       "  </tbody>\n",
       "</table>\n",
       "</div>"
      ],
      "text/plain": [
       "   tp_src  tp_dst  icmp_code  icmp_type  pktcount  bytecount  flowdur_sec  \\\n",
       "0       0       0          0          0         0          0           16   \n",
       "1       0       0          0          0         0          0           16   \n",
       "2       0       0          0          8         0          0           16   \n",
       "3       0       0          0          8         0          0           16   \n",
       "4       0       0          0          0         0          0           16   \n",
       "\n",
       "   flowdur_nsec  pktcount_sec  pktcount_nsec  bytecount_sec  bytecount_nsec  \\\n",
       "0     989000000           0.0   0.000000e+00       0.000000    0.000000e+00   \n",
       "1     906000000           0.0   3.064351e-09      33.000000    2.022472e-07   \n",
       "2     995000000           0.0   4.400440e-09     108.166667    7.139714e-07   \n",
       "3     966000000           0.0   6.201550e-09     108.166667    1.006202e-06   \n",
       "4     985000000           0.0   6.250000e-08      54.714286    7.979167e-06   \n",
       "\n",
       "   ICMP  TCP  UDP  classe  \n",
       "0     1    0    0     0.0  \n",
       "1     1    0    0     0.0  \n",
       "2     1    0    0     0.0  \n",
       "3     1    0    0     0.0  \n",
       "4     1    0    0     0.0  "
      ]
     },
     "execution_count": 8,
     "metadata": {},
     "output_type": "execute_result"
    }
   ],
   "source": [
    "df_.head()"
   ]
  },
  {
   "cell_type": "code",
   "execution_count": 9,
   "id": "01757145",
   "metadata": {},
   "outputs": [
    {
     "data": {
      "text/plain": [
       "(123152, 16)"
      ]
     },
     "execution_count": 9,
     "metadata": {},
     "output_type": "execute_result"
    }
   ],
   "source": [
    "df_.shape"
   ]
  },
  {
   "cell_type": "markdown",
   "id": "91170467",
   "metadata": {},
   "source": [
    "## Appliquons une échelle MinMax pour normaliser notre ensemble de données et faire en sorte que toutes les valeurs soient comprises dans l'intervalle (0,1)."
   ]
  },
  {
   "cell_type": "code",
   "execution_count": 10,
   "id": "87ac9ab0",
   "metadata": {},
   "outputs": [],
   "source": [
    "scaler = preprocessing.MinMaxScaler()"
   ]
  },
  {
   "cell_type": "code",
   "execution_count": 11,
   "id": "b451262f",
   "metadata": {},
   "outputs": [
    {
     "data": {
      "text/plain": [
       "array([[0.        , 0.        , 0.01123596, ..., 0.        , 0.        ,\n",
       "        0.        ],\n",
       "       [0.        , 0.        , 0.01123596, ..., 0.        , 0.        ,\n",
       "        0.        ],\n",
       "       [0.        , 0.        , 0.01123596, ..., 0.        , 0.        ,\n",
       "        0.        ],\n",
       "       ...,\n",
       "       [0.        , 0.        , 0.01123596, ..., 0.        , 0.        ,\n",
       "        1.        ],\n",
       "       [0.        , 0.        , 0.01123596, ..., 0.        , 0.        ,\n",
       "        1.        ],\n",
       "       [0.        , 0.        , 0.01123596, ..., 0.        , 0.        ,\n",
       "        1.        ]])"
      ]
     },
     "execution_count": 11,
     "metadata": {},
     "output_type": "execute_result"
    }
   ],
   "source": [
    "df_std= scaler.fit_transform(df_)\n",
    "df_std"
   ]
  },
  {
   "cell_type": "code",
   "execution_count": 12,
   "id": "5e7df662",
   "metadata": {},
   "outputs": [
    {
     "data": {
      "text/html": [
       "<div>\n",
       "<style scoped>\n",
       "    .dataframe tbody tr th:only-of-type {\n",
       "        vertical-align: middle;\n",
       "    }\n",
       "\n",
       "    .dataframe tbody tr th {\n",
       "        vertical-align: top;\n",
       "    }\n",
       "\n",
       "    .dataframe thead th {\n",
       "        text-align: right;\n",
       "    }\n",
       "</style>\n",
       "<table border=\"1\" class=\"dataframe\">\n",
       "  <thead>\n",
       "    <tr style=\"text-align: right;\">\n",
       "      <th></th>\n",
       "      <th>tp_src</th>\n",
       "      <th>tp_dst</th>\n",
       "      <th>icmp_code</th>\n",
       "      <th>icmp_type</th>\n",
       "      <th>pktcount</th>\n",
       "      <th>bytecount</th>\n",
       "      <th>flowdur_sec</th>\n",
       "      <th>flowdur_nsec</th>\n",
       "      <th>pktcount_sec</th>\n",
       "      <th>pktcount_nsec</th>\n",
       "      <th>bytecount_sec</th>\n",
       "      <th>bytecount_nsec</th>\n",
       "      <th>ICMP</th>\n",
       "      <th>TCP</th>\n",
       "      <th>UDP</th>\n",
       "      <th>classe</th>\n",
       "    </tr>\n",
       "  </thead>\n",
       "  <tbody>\n",
       "    <tr>\n",
       "      <th>0</th>\n",
       "      <td>0.0</td>\n",
       "      <td>0.0</td>\n",
       "      <td>0.011236</td>\n",
       "      <td>0.011236</td>\n",
       "      <td>0.0</td>\n",
       "      <td>0.0</td>\n",
       "      <td>0.16</td>\n",
       "      <td>0.989990</td>\n",
       "      <td>0.0</td>\n",
       "      <td>0.000000e+00</td>\n",
       "      <td>0.000000e+00</td>\n",
       "      <td>0.000000e+00</td>\n",
       "      <td>1.0</td>\n",
       "      <td>0.0</td>\n",
       "      <td>0.0</td>\n",
       "      <td>0.0</td>\n",
       "    </tr>\n",
       "    <tr>\n",
       "      <th>1</th>\n",
       "      <td>0.0</td>\n",
       "      <td>0.0</td>\n",
       "      <td>0.011236</td>\n",
       "      <td>0.011236</td>\n",
       "      <td>0.0</td>\n",
       "      <td>0.0</td>\n",
       "      <td>0.16</td>\n",
       "      <td>0.906907</td>\n",
       "      <td>0.0</td>\n",
       "      <td>1.070276e-08</td>\n",
       "      <td>1.073652e-08</td>\n",
       "      <td>1.612217e-11</td>\n",
       "      <td>1.0</td>\n",
       "      <td>0.0</td>\n",
       "      <td>0.0</td>\n",
       "      <td>0.0</td>\n",
       "    </tr>\n",
       "    <tr>\n",
       "      <th>2</th>\n",
       "      <td>0.0</td>\n",
       "      <td>0.0</td>\n",
       "      <td>0.011236</td>\n",
       "      <td>0.101124</td>\n",
       "      <td>0.0</td>\n",
       "      <td>0.0</td>\n",
       "      <td>0.16</td>\n",
       "      <td>0.995996</td>\n",
       "      <td>0.0</td>\n",
       "      <td>1.536928e-08</td>\n",
       "      <td>3.519194e-08</td>\n",
       "      <td>5.691436e-11</td>\n",
       "      <td>1.0</td>\n",
       "      <td>0.0</td>\n",
       "      <td>0.0</td>\n",
       "      <td>0.0</td>\n",
       "    </tr>\n",
       "    <tr>\n",
       "      <th>3</th>\n",
       "      <td>0.0</td>\n",
       "      <td>0.0</td>\n",
       "      <td>0.011236</td>\n",
       "      <td>0.101124</td>\n",
       "      <td>0.0</td>\n",
       "      <td>0.0</td>\n",
       "      <td>0.16</td>\n",
       "      <td>0.966967</td>\n",
       "      <td>0.0</td>\n",
       "      <td>2.165996e-08</td>\n",
       "      <td>3.519194e-08</td>\n",
       "      <td>8.020954e-11</td>\n",
       "      <td>1.0</td>\n",
       "      <td>0.0</td>\n",
       "      <td>0.0</td>\n",
       "      <td>0.0</td>\n",
       "    </tr>\n",
       "    <tr>\n",
       "      <th>4</th>\n",
       "      <td>0.0</td>\n",
       "      <td>0.0</td>\n",
       "      <td>0.011236</td>\n",
       "      <td>0.011236</td>\n",
       "      <td>0.0</td>\n",
       "      <td>0.0</td>\n",
       "      <td>0.16</td>\n",
       "      <td>0.985986</td>\n",
       "      <td>0.0</td>\n",
       "      <td>2.182918e-07</td>\n",
       "      <td>1.780125e-08</td>\n",
       "      <td>6.360607e-10</td>\n",
       "      <td>1.0</td>\n",
       "      <td>0.0</td>\n",
       "      <td>0.0</td>\n",
       "      <td>0.0</td>\n",
       "    </tr>\n",
       "  </tbody>\n",
       "</table>\n",
       "</div>"
      ],
      "text/plain": [
       "   tp_src  tp_dst  icmp_code  icmp_type  pktcount  bytecount  flowdur_sec  \\\n",
       "0     0.0     0.0   0.011236   0.011236       0.0        0.0         0.16   \n",
       "1     0.0     0.0   0.011236   0.011236       0.0        0.0         0.16   \n",
       "2     0.0     0.0   0.011236   0.101124       0.0        0.0         0.16   \n",
       "3     0.0     0.0   0.011236   0.101124       0.0        0.0         0.16   \n",
       "4     0.0     0.0   0.011236   0.011236       0.0        0.0         0.16   \n",
       "\n",
       "   flowdur_nsec  pktcount_sec  pktcount_nsec  bytecount_sec  bytecount_nsec  \\\n",
       "0      0.989990           0.0   0.000000e+00   0.000000e+00    0.000000e+00   \n",
       "1      0.906907           0.0   1.070276e-08   1.073652e-08    1.612217e-11   \n",
       "2      0.995996           0.0   1.536928e-08   3.519194e-08    5.691436e-11   \n",
       "3      0.966967           0.0   2.165996e-08   3.519194e-08    8.020954e-11   \n",
       "4      0.985986           0.0   2.182918e-07   1.780125e-08    6.360607e-10   \n",
       "\n",
       "   ICMP  TCP  UDP  classe  \n",
       "0   1.0  0.0  0.0     0.0  \n",
       "1   1.0  0.0  0.0     0.0  \n",
       "2   1.0  0.0  0.0     0.0  \n",
       "3   1.0  0.0  0.0     0.0  \n",
       "4   1.0  0.0  0.0     0.0  "
      ]
     },
     "execution_count": 12,
     "metadata": {},
     "output_type": "execute_result"
    }
   ],
   "source": [
    "new_df = pd.DataFrame(df_std, columns=df_.columns)\n",
    "new_df.head()"
   ]
  },
  {
   "cell_type": "markdown",
   "id": "f34ef156",
   "metadata": {},
   "source": [
    "## Divisons notre ensemble de données en variables d'entrée X et de sortie Y."
   ]
  },
  {
   "cell_type": "code",
   "execution_count": 13,
   "id": "c7878354",
   "metadata": {},
   "outputs": [],
   "source": [
    "X = new_df.iloc[:,1:17].astype(float)\n",
    "y = new_df.iloc[:,-1]"
   ]
  },
  {
   "cell_type": "markdown",
   "id": "0a3b0621",
   "metadata": {},
   "source": [
    "## Divisons notre ensemble de données en un ensemble de formation (80 %) et un ensemble de test (20 %)."
   ]
  },
  {
   "cell_type": "code",
   "execution_count": 14,
   "id": "24328b6c",
   "metadata": {},
   "outputs": [],
   "source": [
    "X_train, X_test, y_train, y_test = train_test_split(X, y, test_size=0.2, random_state=42)"
   ]
  },
  {
   "cell_type": "code",
   "execution_count": 15,
   "id": "c66670d3",
   "metadata": {},
   "outputs": [
    {
     "data": {
      "text/plain": [
       "(123152, 16)"
      ]
     },
     "execution_count": 15,
     "metadata": {},
     "output_type": "execute_result"
    }
   ],
   "source": [
    "new_df.shape"
   ]
  },
  {
   "cell_type": "code",
   "execution_count": 16,
   "id": "4054d2c2",
   "metadata": {},
   "outputs": [
    {
     "name": "stderr",
     "output_type": "stream",
     "text": [
      "2023-11-12 17:14:44.261231: I tensorflow/core/platform/cpu_feature_guard.cc:193] This TensorFlow binary is optimized with oneAPI Deep Neural Network Library (oneDNN) to use the following CPU instructions in performance-critical operations:  SSE4.1 SSE4.2 AVX AVX2 FMA\n",
      "To enable them in other operations, rebuild TensorFlow with the appropriate compiler flags.\n",
      "2023-11-12 17:14:44.266359: I tensorflow/core/common_runtime/process_util.cc:146] Creating new thread pool with default inter op setting: 2. Tune using inter_op_parallelism_threads for best performance.\n"
     ]
    },
    {
     "name": "stdout",
     "output_type": "stream",
     "text": [
      "Model: \"sequential\"\n",
      "_________________________________________________________________\n",
      " Layer (type)                Output Shape              Param #   \n",
      "=================================================================\n",
      " dense (Dense)               (None, 128)               2048      \n",
      "                                                                 \n",
      " dense_1 (Dense)             (None, 256)               33024     \n",
      "                                                                 \n",
      " batch_normalization (BatchN  (None, 256)              1024      \n",
      " ormalization)                                                   \n",
      "                                                                 \n",
      " dropout (Dropout)           (None, 256)               0         \n",
      "                                                                 \n",
      " dense_2 (Dense)             (None, 512)               131584    \n",
      "                                                                 \n",
      " batch_normalization_1 (Batc  (None, 512)              2048      \n",
      " hNormalization)                                                 \n",
      "                                                                 \n",
      " dropout_1 (Dropout)         (None, 512)               0         \n",
      "                                                                 \n",
      " dense_3 (Dense)             (None, 256)               131328    \n",
      "                                                                 \n",
      " batch_normalization_2 (Batc  (None, 256)              1024      \n",
      " hNormalization)                                                 \n",
      "                                                                 \n",
      " dropout_2 (Dropout)         (None, 256)               0         \n",
      "                                                                 \n",
      " dense_4 (Dense)             (None, 128)               32896     \n",
      "                                                                 \n",
      " batch_normalization_3 (Batc  (None, 128)              512       \n",
      " hNormalization)                                                 \n",
      "                                                                 \n",
      " dropout_3 (Dropout)         (None, 128)               0         \n",
      "                                                                 \n",
      " dense_5 (Dense)             (None, 1)                 129       \n",
      "                                                                 \n",
      "=================================================================\n",
      "Total params: 335,617\n",
      "Trainable params: 333,313\n",
      "Non-trainable params: 2,304\n",
      "_________________________________________________________________\n"
     ]
    }
   ],
   "source": [
    "# Créez un modèle séquentiel\n",
    "model = Sequential()\n",
    "\n",
    "# Couche d'entrée\n",
    "model.add(Dense(128, input_shape=(15,), activation='relu'))\n",
    "\n",
    "# Couches cachées profondes\n",
    "model.add(Dense(256, activation='relu'))\n",
    "model.add(BatchNormalization())\n",
    "model.add(Dropout(0.5))\n",
    "\n",
    "model.add(Dense(512, activation='relu'))\n",
    "model.add(BatchNormalization())\n",
    "model.add(Dropout(0.5))\n",
    "\n",
    "model.add(Dense(256, activation='relu'))\n",
    "model.add(BatchNormalization())\n",
    "model.add(Dropout(0.5))\n",
    "\n",
    "model.add(Dense(128, activation='relu'))\n",
    "model.add(BatchNormalization())\n",
    "model.add(Dropout(0.5))\n",
    "\n",
    "# Couche de sortie\n",
    "model.add(Dense(1, activation='sigmoid'))\n",
    "\n",
    "# Compilez le modèle\n",
    "model.compile(optimizer='adam', loss='binary_crossentropy', metrics=['accuracy'])\n",
    "\n",
    "# Résumé du modèle\n",
    "model.summary()\n"
   ]
  },
  {
   "cell_type": "code",
   "execution_count": 17,
   "id": "6674a3f9",
   "metadata": {},
   "outputs": [],
   "source": [
    "# Ce rappel arrêtera la formation lorsqu'il n'y aura pas d'amélioration de la perte de validation pendant 5 époques consécutives.  \n",
    "es = EarlyStopping(\n",
    "    monitor='val_accuracy', \n",
    "    mode='max',\n",
    "    patience=5,\n",
    "    restore_best_weights=True\n",
    ")"
   ]
  },
  {
   "cell_type": "code",
   "execution_count": 18,
   "id": "2977785b",
   "metadata": {},
   "outputs": [],
   "source": [
    "model.compile(loss='binary_crossentropy', \n",
    "              optimizer='Adam', \n",
    "              metrics=['accuracy'])"
   ]
  },
  {
   "cell_type": "code",
   "execution_count": null,
   "id": "822fcdca",
   "metadata": {},
   "outputs": [
    {
     "name": "stdout",
     "output_type": "stream",
     "text": [
      "Epoch 1/30\n",
      "310/310 [==============================] - 20s 59ms/step - loss: 0.0116 - accuracy: 0.9954 - val_loss: 0.0076 - val_accuracy: 1.0000\n",
      "Epoch 2/30\n",
      "310/310 [==============================] - 17s 54ms/step - loss: 1.7627e-04 - accuracy: 1.0000 - val_loss: 1.7309e-05 - val_accuracy: 1.0000\n",
      "Epoch 3/30\n",
      "310/310 [==============================] - 15s 48ms/step - loss: 7.3406e-05 - accuracy: 1.0000 - val_loss: 2.0980e-06 - val_accuracy: 1.0000\n",
      "Epoch 4/30\n",
      "310/310 [==============================] - 16s 52ms/step - loss: 4.2488e-05 - accuracy: 1.0000 - val_loss: 1.3000e-06 - val_accuracy: 1.0000\n",
      "Epoch 5/30\n",
      "310/310 [==============================] - 14s 45ms/step - loss: 2.7527e-05 - accuracy: 1.0000 - val_loss: 7.5880e-07 - val_accuracy: 1.0000\n",
      "Epoch 6/30\n",
      "290/310 [===========================>..] - ETA: 1s - loss: 2.2908e-05 - accuracy: 1.0000"
     ]
    }
   ],
   "source": [
    "model.fit(X_train, \n",
    "          y_train, \n",
    "          epochs=30,\n",
    "          batch_size=255, \n",
    "          verbose=1, \n",
    "          validation_split=0.2,\n",
    "          callbacks=[es])"
   ]
  },
  {
   "cell_type": "code",
   "execution_count": null,
   "id": "acf11d72",
   "metadata": {},
   "outputs": [],
   "source": [
    "history_dict = model.history.history"
   ]
  },
  {
   "cell_type": "code",
   "execution_count": null,
   "id": "0b2884ab",
   "metadata": {},
   "outputs": [],
   "source": [
    "# loss\n",
    "loss_values = history_dict['loss']\n",
    "val_loss_values = history_dict['val_loss']\n",
    "\n",
    "epochs = range(1, len(loss_values) + 1) \n",
    "\n",
    "# plot\n",
    "plt.figure(figsize=(9, 4))\n",
    "plt.plot(epochs, loss_values, 'blue',label='Training loss')\n",
    "plt.plot(epochs, val_loss_values, 'green', label='Validation loss')\n",
    "plt.title('Training and validation loss')\n",
    "plt.xlabel('Epochs')\n",
    "plt.ylabel('Loss')\n",
    "plt.legend()\n",
    "plt.show()\n",
    "     "
   ]
  },
  {
   "cell_type": "code",
   "execution_count": null,
   "id": "c707810b",
   "metadata": {},
   "outputs": [],
   "source": [
    "results = model.evaluate(X_test, y_test, batch_size=250)\n",
    "print(\"Test set accuracy = {} %\".format( results[1]*100))"
   ]
  },
  {
   "cell_type": "code",
   "execution_count": null,
   "id": "75ded74e",
   "metadata": {},
   "outputs": [],
   "source": [
    "preds = np.round(model.predict(X_test),0)\n",
    "\n",
    "print(confusion_matrix(y_test, preds)) "
   ]
  },
  {
   "cell_type": "markdown",
   "id": "4394ddd2",
   "metadata": {},
   "source": [
    "### 1. Modèle de régression logistique"
   ]
  },
  {
   "cell_type": "code",
   "execution_count": null,
   "id": "04fe1a1c",
   "metadata": {},
   "outputs": [],
   "source": [
    "# Paramètres du modèle\n",
    "C_value = 0.03\n",
    "solvers = ['newton-cg', 'lbfgs', 'liblinear', 'sag', 'saga']\n",
    "\n",
    "results_lr = []\n",
    "\n",
    "start_time = time.time()\n",
    "best_accuracy = 0\n",
    "best_solver = None\n",
    "\n",
    "for solver in solvers:\n",
    "    # Entraînement du modèle\n",
    "    logreg_model = LogisticRegression(C=C_value, solver=solver).fit(X_train, y_train)\n",
    "    predicted_lr = logreg_model.predict(X_test)\n",
    "    accuracy_lr = accuracy_score(y_test, predicted_lr)\n",
    "    \n",
    "    results_lr.append({\n",
    "        'solver': solver,\n",
    "        'accuracy': f'{accuracy_lr * 100:.2f}%',\n",
    "        'coefficients': {'W': logreg_model.coef_, 'b': logreg_model.intercept_}\n",
    "    })\n",
    "\n",
    "    if accuracy_lr > best_accuracy:\n",
    "        best_accuracy = accuracy_lr\n",
    "        best_solver = solver\n",
    "\n",
    "# Entraînement final avec le meilleur solveur\n",
    "logreg_model = LogisticRegression(C=C_value, solver=best_solver).fit(X_train, y_train)\n",
    "predicted_lr = logreg_model.predict(X_test)\n",
    "accuracy_lr = accuracy_score(y_test, predicted_lr)\n",
    "\n",
    "# Affichage des résultats\n",
    "print(f\"Précision: {accuracy_lr * 100:.2f}%\\n\")\n",
    "print(\"########################################################################\")\n",
    "print('Meilleur solveur :', best_solver)\n",
    "print(\"########################################################################\")\n",
    "print(classification_report(predicted_lr, y_test), '\\n')\n",
    "print(\"########################################################################\")\n",
    "print(f\"--- {time.time() - start_time:.2f} secondes --- temps pour la régression logistique\")\n"
   ]
  },
  {
   "cell_type": "markdown",
   "id": "6c457541",
   "metadata": {},
   "source": [
    "### 2. Modèle d'arbre de décision avec recherche des meilleurs hyperparamètres"
   ]
  },
  {
   "cell_type": "code",
   "execution_count": null,
   "id": "b71e86d7",
   "metadata": {},
   "outputs": [],
   "source": [
    "start_time = time.time()\n",
    "dt_classifier = DecisionTreeClassifier()\n",
    "\n",
    "# Recherche des hyperparamètres optimaux\n",
    "param_grid = {\n",
    "    'criterion': ['gini', 'entropy', 'log_loss'],\n",
    "    'max_depth': [None, 2, 3, 4, 5],\n",
    "    'max_leaf_nodes': [2, 3, 4, 5]\n",
    "}\n",
    "\n",
    "dt_search = GridSearchCV(dt_classifier, param_grid=param_grid, n_jobs=-1, cv=5, scoring='accuracy', verbose=2)\n",
    "dt_search.fit(X_train, y_train)\n",
    "\n",
    "criterion = dt_search.best_params_['criterion']\n",
    "max_depth = dt_search.best_params_['max_depth']\n",
    "max_leaf_nodes = dt_search.best_params_['max_leaf_nodes']\n",
    "\n",
    "# Entraînement du modèle avec les hyperparamètres optimaux\n",
    "dt_classifier = DecisionTreeClassifier(criterion=criterion, max_depth=max_depth, max_leaf_nodes=max_leaf_nodes)\n",
    "dt_classifier.fit(X_train, y_train)\n",
    "\n",
    "# Prédiction et évaluation du modèle\n",
    "predicted_dt = dt_classifier.predict(X_test)\n",
    "accuracy_dt = accuracy_score(y_test, predicted_dt)\n",
    "\n",
    "# Stockage des résultats\n",
    "results = {\n",
    "    'criterion': criterion,\n",
    "    'max_depth': max_depth,\n",
    "    'max_leaf_nodes': max_leaf_nodes,\n",
    "    'accuracy': round(accuracy_dt * 100, 2)\n",
    "}\n",
    "\n",
    "# Affichage des résultats\n",
    "print(f\"criterion: {criterion}, max depth: {max_depth}, max_leaf: {max_leaf_nodes}\")\n",
    "print(f\"La précision est : {results['accuracy']}%\")\n",
    "print(\"########################################################################\")\n",
    "print(classification_report(predicted_dt, y_test))\n",
    "print(\"########################################################################\")\n",
    "\n",
    "print(\"--- %s secondes --- temps pour l'arbre de décision \" % (time.time() - start_time))"
   ]
  },
  {
   "cell_type": "markdown",
   "id": "31ad88c8",
   "metadata": {},
   "source": [
    "### 3. Forêt aléatoire"
   ]
  },
  {
   "cell_type": "code",
   "execution_count": null,
   "id": "f34a436e",
   "metadata": {},
   "outputs": [],
   "source": [
    "start_time = time.time()\n",
    "\n",
    "# Définissez la grille d'hyperparamètres à explorer\n",
    "param_grid = {\n",
    "    'criterion': ['gini'],\n",
    "    'n_estimators': [100],\n",
    "    'max_depth': [None],\n",
    "    'min_samples_split': [2],\n",
    "    'max_features': ['sqrt']\n",
    "}\n",
    "\n",
    "# Créez le modèle RandomForestClassifier\n",
    "rf_classifier = RandomForestClassifier()\n",
    "\n",
    "# Utilisez GridSearchCV pour trouver les meilleurs hyperparamètres\n",
    "grid_search = GridSearchCV(rf_classifier, param_grid, cv=5, scoring='accuracy', n_jobs=-1, verbose=2)\n",
    "grid_search.fit(X_train, y_train)\n",
    "\n",
    "# Obtenir les meilleurs hyperparamètres trouvés\n",
    "best_params = grid_search.best_params_\n",
    "\n",
    "# Entraînez un modèle RandomForest avec les meilleurs hyperparamètres\n",
    "rf_classifier_best = RandomForestClassifier(criterion='gini', oob_score=True, random_state=1, n_jobs=-1, **best_params)\n",
    "rf_classifier_best.fit(X_train, y_train)\n",
    "\n",
    "# Prédisez les étiquettes\n",
    "predicted_rf = rf_classifier_best.predict(X_test)\n",
    "accuracy_rf = accuracy_score(y_test, predicted_rf)\n",
    "\n",
    "# Affichage des résultats\n",
    "print(f\"Random Forest Précision: {round(accuracy_rf * 100, 2)}%\")\n",
    "print(f\"Meilleurs hyperparamètres : {best_params}\")\n",
    "print(classification_report(predicted_rf, y_test))\n",
    "#print(f\"Time for Random Forest: {time.time() - start_time} seconds\")\n",
    "print(\"--- %s secondes --- temps pour le Random Forest \" % (time.time() - start_time))"
   ]
  },
  {
   "cell_type": "markdown",
   "id": "871326e2",
   "metadata": {},
   "source": [
    "### 4. K-Nearest Neighbors (KNN)"
   ]
  },
  {
   "cell_type": "code",
   "execution_count": null,
   "id": "be86d280",
   "metadata": {},
   "outputs": [],
   "source": [
    "start_time = time.time()\n",
    "\n",
    "# Création d'une liste de valeurs de k à tester\n",
    "Ks = range(1, 13)\n",
    "\n",
    "# Initialisation des tableaux pour stocker les résultats\n",
    "accuracy_knn = np.zeros(len(Ks))\n",
    "\n",
    "# Boucle sur les différentes valeurs de k\n",
    "for i, k in enumerate(Ks):\n",
    "    \n",
    "    knn_classifier = KNeighborsClassifier(n_neighbors=k)\n",
    "    \n",
    "    knn_classifier.fit(X_train, y_train)\n",
    "    \n",
    "    yhat = knn_classifier.predict(X_test)\n",
    "    \n",
    "    accuracy_knn[i] = accuracy_score(y_test, yhat)\n",
    "\n",
    "# Recherche des meilleurs hyperparamètres avec GridSearchCV\n",
    "param_grid = {\n",
    "    'n_neighbors': [3, 5, 10],\n",
    "    'weights': ['uniform', 'distance'],\n",
    "    'metric': ['euclidean', 'manhattan']\n",
    "}\n",
    "\n",
    "# Création de l'objet GridSearchCV\n",
    "knn_grid_search = GridSearchCV(KNeighborsClassifier(), param_grid=param_grid, cv=3, n_jobs=-1, scoring='accuracy', verbose=2)\n",
    "knn_grid_search.fit(X_train, y_train)\n",
    "best_params = knn_grid_search.best_params_\n",
    "\n",
    "# Création du modèle k-NN avec les meilleurs hyperparamètres\n",
    "best_knn = KNeighborsClassifier(**best_params)\n",
    "best_knn.fit(X_train, y_train)\n",
    "predicted_knn = best_knn.predict(X_test)\n",
    "accuracy_knn = accuracy_score(y_test, predicted_knn)\n",
    "\n",
    "# Affichage des résultats\n",
    "print(f\"Précision du modèle k-NN : {round(accuracy_knn * 100, 2)}%\")\n",
    "print(\"Meilleurs hyperparamètres:\", best_params)\n",
    "print(classification_report(predicted_knn, y_test))\n",
    "print(\"--- %s secondes --- temps pour le modèle k-NN\" % (time.time() - start_time))\n"
   ]
  },
  {
   "cell_type": "code",
   "execution_count": null,
   "id": "5301a314",
   "metadata": {},
   "outputs": [],
   "source": [
    "start_time = time.time()\n",
    "Ks = 12\n",
    "accuracy_knn = np.zeros((Ks-1))\n",
    "std_acc = np.zeros((Ks-1))\n",
    "\n",
    "for n in range(1, Ks):\n",
    "    # Train Model and Predict\n",
    "    neigh = KNeighborsClassifier(n_neighbors=n)\n",
    "    neigh.fit(X_train, y_train)\n",
    "    yhat = neigh.predict(X_test)\n",
    "    accuracy_knn[n-1] = accuracy_score(y_test, yhat)\n",
    "    std_acc[n-1] = np.std(yhat == y_test) / np.sqrt(yhat.shape[0])\n",
    "\n",
    "\n",
    "# Optimization of k-NN hyperparameters using GridSearchCV\n",
    "knnc = KNeighborsClassifier()\n",
    "param_grid = {\n",
    "    'n_neighbors': [3, 5, 10],\n",
    "    'weights': ['uniform', 'distance'],\n",
    "    'metric': ['euclidean', 'manhattan']\n",
    "}\n",
    "\n",
    "knnc_search = GridSearchCV(knnc, param_grid=param_grid, n_jobs=-1, cv=3, scoring='accuracy', verbose=2)\n",
    "knnc_search.fit(X_train, y_train)\n",
    "\n",
    "best_params = knnc_search.best_params_\n",
    "n_neighbors = best_params['n_neighbors']\n",
    "weights = best_params['weights']\n",
    "metric = best_params['metric']\n",
    "\n",
    "KNN = KNeighborsClassifier(n_neighbors=n_neighbors, metric=metric, weights=weights)\n",
    "KNN.fit(X_train, y_train)\n",
    "\n",
    "predicted_knn = KNN.predict(X_test)\n",
    "accuracy_knn = accuracy_score(y_test, predicted_knn)\n",
    "\n",
    "# Display results\n",
    "print(f\"Précision du model KNN : {round(accuracy_knn * 100, 2)}%\")\n",
    "print(\"Meilleur hyperparameters:\", best_params)\n",
    "print(classification_report(predicted_knn, y_test))\n",
    "#print(\"--- %s seconds ---\" % (time.time() - start_time))\n",
    "print(\"--- %s secondes --- temps pour le KNN model \" % (time.time() - start_time))\n"
   ]
  },
  {
   "cell_type": "markdown",
   "id": "90c471f7",
   "metadata": {},
   "source": [
    "### SVM"
   ]
  },
  {
   "cell_type": "code",
   "execution_count": null,
   "id": "5b36d5df",
   "metadata": {
    "scrolled": false
   },
   "outputs": [],
   "source": [
    "\n",
    "start_time = time.time()\n",
    "\n",
    "kernels = ['linear', 'poly', 'rbf', 'sigmoid']\n",
    "\n",
    "# Liste pour stocker les précisions pour chaque noyau\n",
    "accuracy_list = []\n",
    "\n",
    "for kernel in kernels:\n",
    "    # Création du modèle SVM avec le noyau actuel\n",
    "    SVM = svm.SVC(kernel=kernel)\n",
    "\n",
    "    # Entraînement du modèle\n",
    "    SVM.fit(X_train, y_train)\n",
    "\n",
    "    # Prédiction sur les données de test\n",
    "    predicted_svm = SVM.predict(X_test)\n",
    "\n",
    "    # Calcul de la précision\n",
    "    accuracy_svm = accuracy_score(y_test, predicted_svm)\n",
    "\n",
    "    # Ajout de la précision à la liste\n",
    "    accuracy_list.append(accuracy_svm)\n",
    "\n",
    "    # Affichage de la précision\n",
    "    print(f\"Précision du noyau {kernel} : {round(accuracy_svm * 100, 2)}%\")\n",
    "    print('#######################################################################')\n",
    "\n",
    "# Sélection du meilleur noyau en fonction de la précision maximale\n",
    "best_kernel = kernels[np.argmax(accuracy_list)]\n",
    "\n",
    "# Entraînement final avec le meilleur noyau\n",
    "best_SVM = svm.SVC(kernel=best_kernel)\n",
    "best_SVM.fit(X_train, y_train)\n",
    "\n",
    "# Prédiction avec le modèle optimal\n",
    "predicted_svm = best_SVM.predict(X_test)\n",
    "\n",
    "# Calcul de la précision\n",
    "accuracy_svm = accuracy_score(y_test, predicted_svm)\n",
    "\n",
    "# Affichage des résultats finaux\n",
    "print(f\"Précision du modèle SVM avec le meilleur noyau (noyau {best_kernel}): {round(accuracy_svm * 100, 2)}%\")\n",
    "print(\"########################################################################\")\n",
    "print('Le meilleur noyau est:', best_kernel)\n",
    "print(\"########################################################################\")\n",
    "print(classification_report(y_test, predicted_svm))\n",
    "print(\"########################################################################\")\n",
    "print(\"--- %s seconds --- temps pour le model SVM\" % (time.time() - start_time))"
   ]
  },
  {
   "cell_type": "code",
   "execution_count": null,
   "id": "9d7841bb",
   "metadata": {},
   "outputs": [],
   "source": []
  }
 ],
 "metadata": {
  "kernelspec": {
   "display_name": "Python 3 (ipykernel)",
   "language": "python",
   "name": "python3"
  },
  "language_info": {
   "codemirror_mode": {
    "name": "ipython",
    "version": 3
   },
   "file_extension": ".py",
   "mimetype": "text/x-python",
   "name": "python",
   "nbconvert_exporter": "python",
   "pygments_lexer": "ipython3",
   "version": "3.10.9"
  }
 },
 "nbformat": 4,
 "nbformat_minor": 5
}
